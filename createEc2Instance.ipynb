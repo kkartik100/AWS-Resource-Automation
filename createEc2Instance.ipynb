{
 "cells": [
  {
   "cell_type": "code",
   "execution_count": 5,
   "metadata": {},
   "outputs": [],
   "source": [
    "import boto3"
   ]
  },
  {
   "cell_type": "code",
   "execution_count": 7,
   "metadata": {},
   "outputs": [],
   "source": [
    "ec2_client = boto3.client(\"ec2\")\n",
    "ec2_resource = boto3.resource(\"ec2\")"
   ]
  },
  {
   "cell_type": "code",
   "execution_count": 9,
   "metadata": {},
   "outputs": [
    {
     "data": {
      "text/plain": [
       "{'GroupId': 'sg-09dff7b7ef81c0c75',\n",
       " 'ResponseMetadata': {'RequestId': 'eb7aa5d2-5e33-4175-8c5c-8595825833b5',\n",
       "  'HTTPStatusCode': 200,\n",
       "  'HTTPHeaders': {'x-amzn-requestid': 'eb7aa5d2-5e33-4175-8c5c-8595825833b5',\n",
       "   'cache-control': 'no-cache, no-store',\n",
       "   'strict-transport-security': 'max-age=31536000; includeSubDomains',\n",
       "   'content-type': 'text/xml;charset=UTF-8',\n",
       "   'content-length': '283',\n",
       "   'date': 'Wed, 17 Aug 2022 06:15:35 GMT',\n",
       "   'server': 'AmazonEC2'},\n",
       "  'RetryAttempts': 0}}"
      ]
     },
     "execution_count": 9,
     "metadata": {},
     "output_type": "execute_result"
    }
   ],
   "source": [
    "ec2_client.create_security_group(\n",
    "    Description = 'Test Group - Temporary',\n",
    "    GroupName = 'test-sg'\n",
    ")"
   ]
  },
  {
   "cell_type": "code",
   "execution_count": 14,
   "metadata": {},
   "outputs": [
    {
     "data": {
      "text/plain": [
       "{'Return': True,\n",
       " 'SecurityGroupRules': [{'SecurityGroupRuleId': 'sgr-015e1bcbdab8ba4fd',\n",
       "   'GroupId': 'sg-09dff7b7ef81c0c75',\n",
       "   'GroupOwnerId': '716099748978',\n",
       "   'IsEgress': False,\n",
       "   'IpProtocol': '-1',\n",
       "   'FromPort': -1,\n",
       "   'ToPort': -1,\n",
       "   'CidrIpv4': '0.0.0.0/0'}],\n",
       " 'ResponseMetadata': {'RequestId': 'dd5f9543-4c81-42b4-8818-9f7cfa24d5b7',\n",
       "  'HTTPStatusCode': 200,\n",
       "  'HTTPHeaders': {'x-amzn-requestid': 'dd5f9543-4c81-42b4-8818-9f7cfa24d5b7',\n",
       "   'cache-control': 'no-cache, no-store',\n",
       "   'strict-transport-security': 'max-age=31536000; includeSubDomains',\n",
       "   'content-type': 'text/xml;charset=UTF-8',\n",
       "   'content-length': '718',\n",
       "   'date': 'Wed, 17 Aug 2022 06:25:20 GMT',\n",
       "   'server': 'AmazonEC2'},\n",
       "  'RetryAttempts': 0}}"
      ]
     },
     "execution_count": 14,
     "metadata": {},
     "output_type": "execute_result"
    }
   ],
   "source": [
    "ec2_client.authorize_security_group_ingress(\n",
    "      GroupId='sg-09dff7b7ef81c0c75',\n",
    "      GroupName='test-sg',\n",
    "      IpPermissions=[\n",
    "          {\n",
    "              'FromPort': 0,\n",
    "              'IpProtocol': '-1',\n",
    "              'IpRanges': [\n",
    "                  {\n",
    "                      'CidrIp': '0.0.0.0/0',\n",
    "                      \n",
    "                  },\n",
    "              ],\n",
    "              'ToPort': 65536,\n",
    "          },\n",
    "      ])"
   ]
  },
  {
   "cell_type": "code",
   "execution_count": 12,
   "metadata": {},
   "outputs": [
    {
     "data": {
      "text/plain": [
       "[ec2.Instance(id='i-087d3aa9e3d7c4995')]"
      ]
     },
     "execution_count": 12,
     "metadata": {},
     "output_type": "execute_result"
    }
   ],
   "source": [
    "ec2_resource.create_instances(\n",
    "    ImageId = 'ami-0d70546e43a941d70',\n",
    "    InstanceType = 't2.micro',\n",
    "    KeyName = 'awsdemo',\n",
    "    MaxCount = 1,\n",
    "    MinCount = 1,\n",
    "    SecurityGroupIds=[\n",
    "          'sg-09dff7b7ef81c0c75',\n",
    "      ],\n",
    ")"
   ]
  }
 ],
 "metadata": {
  "kernelspec": {
   "display_name": "Python 3.10.6 64-bit",
   "language": "python",
   "name": "python3"
  },
  "language_info": {
   "codemirror_mode": {
    "name": "ipython",
    "version": 3
   },
   "file_extension": ".py",
   "mimetype": "text/x-python",
   "name": "python",
   "nbconvert_exporter": "python",
   "pygments_lexer": "ipython3",
   "version": "3.10.6"
  },
  "orig_nbformat": 4,
  "vscode": {
   "interpreter": {
    "hash": "aee8b7b246df8f9039afb4144a1f6fd8d2ca17a180786b69acc140d282b71a49"
   }
  }
 },
 "nbformat": 4,
 "nbformat_minor": 2
}
