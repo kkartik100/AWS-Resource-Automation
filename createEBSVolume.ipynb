{
 "cells": [
  {
   "cell_type": "code",
   "execution_count": 1,
   "metadata": {},
   "outputs": [],
   "source": [
    "import boto3\n",
    "ec2_client = boto3.client(\"ec2\")"
   ]
  },
  {
   "cell_type": "code",
   "execution_count": 3,
   "metadata": {},
   "outputs": [
    {
     "data": {
      "text/plain": [
       "{'AvailabilityZone': 'us-west-2c',\n",
       " 'CreateTime': datetime.datetime(2022, 8, 17, 8, 18, 55, tzinfo=tzutc()),\n",
       " 'Encrypted': False,\n",
       " 'Size': 8,\n",
       " 'SnapshotId': '',\n",
       " 'State': 'creating',\n",
       " 'VolumeId': 'vol-04cbb14d5f32469d2',\n",
       " 'Iops': 100,\n",
       " 'Tags': [{'Key': 'Name', 'Value': 'Test-Volume'}],\n",
       " 'VolumeType': 'gp2',\n",
       " 'MultiAttachEnabled': False,\n",
       " 'ResponseMetadata': {'RequestId': '9ebe1355-def4-46e7-9a12-2328295a0cbd',\n",
       "  'HTTPStatusCode': 200,\n",
       "  'HTTPHeaders': {'x-amzn-requestid': '9ebe1355-def4-46e7-9a12-2328295a0cbd',\n",
       "   'cache-control': 'no-cache, no-store',\n",
       "   'strict-transport-security': 'max-age=31536000; includeSubDomains',\n",
       "   'content-type': 'text/xml;charset=UTF-8',\n",
       "   'content-length': '694',\n",
       "   'date': 'Wed, 17 Aug 2022 08:18:54 GMT',\n",
       "   'server': 'AmazonEC2'},\n",
       "  'RetryAttempts': 0}}"
      ]
     },
     "execution_count": 3,
     "metadata": {},
     "output_type": "execute_result"
    }
   ],
   "source": [
    "ec2_client.create_volume(\n",
    "      AvailabilityZone='us-west-2c',\n",
    "      \n",
    "      \n",
    "      Size=8,\n",
    "      \n",
    "      VolumeType='gp2',\n",
    "      TagSpecifications=[\n",
    "          {\n",
    "              'ResourceType':'volume',\n",
    "              'Tags': [\n",
    "                  {\n",
    "                      'Key': 'Name',\n",
    "                      'Value': 'Test-Volume'\n",
    "                  },\n",
    "              ]\n",
    "          },\n",
    "      ],\n",
    "  )"
   ]
  }
 ],
 "metadata": {
  "kernelspec": {
   "display_name": "Python 3.10.6 64-bit",
   "language": "python",
   "name": "python3"
  },
  "language_info": {
   "codemirror_mode": {
    "name": "ipython",
    "version": 3
   },
   "file_extension": ".py",
   "mimetype": "text/x-python",
   "name": "python",
   "nbconvert_exporter": "python",
   "pygments_lexer": "ipython3",
   "version": "3.10.6"
  },
  "orig_nbformat": 4,
  "vscode": {
   "interpreter": {
    "hash": "aee8b7b246df8f9039afb4144a1f6fd8d2ca17a180786b69acc140d282b71a49"
   }
  }
 },
 "nbformat": 4,
 "nbformat_minor": 2
}
