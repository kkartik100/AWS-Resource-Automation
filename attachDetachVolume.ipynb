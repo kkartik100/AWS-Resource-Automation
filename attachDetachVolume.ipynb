{
 "cells": [
  {
   "cell_type": "code",
   "execution_count": 1,
   "metadata": {},
   "outputs": [],
   "source": [
    "import boto3\n",
    "ec2_client = boto3.client(\"ec2\")"
   ]
  },
  {
   "cell_type": "code",
   "execution_count": 2,
   "metadata": {},
   "outputs": [
    {
     "data": {
      "text/plain": [
       "{'AttachTime': datetime.datetime(2022, 8, 17, 8, 51, 57, 440000, tzinfo=tzutc()),\n",
       " 'Device': '/dev/xvdb',\n",
       " 'InstanceId': 'i-087d3aa9e3d7c4995',\n",
       " 'State': 'attaching',\n",
       " 'VolumeId': 'vol-04cbb14d5f32469d2',\n",
       " 'ResponseMetadata': {'RequestId': '555add17-dead-405a-b952-0d66e78acacb',\n",
       "  'HTTPStatusCode': 200,\n",
       "  'HTTPHeaders': {'x-amzn-requestid': '555add17-dead-405a-b952-0d66e78acacb',\n",
       "   'cache-control': 'no-cache, no-store',\n",
       "   'strict-transport-security': 'max-age=31536000; includeSubDomains',\n",
       "   'content-type': 'text/xml;charset=UTF-8',\n",
       "   'content-length': '411',\n",
       "   'date': 'Wed, 17 Aug 2022 08:51:56 GMT',\n",
       "   'server': 'AmazonEC2'},\n",
       "  'RetryAttempts': 0}}"
      ]
     },
     "execution_count": 2,
     "metadata": {},
     "output_type": "execute_result"
    }
   ],
   "source": [
    "ec2_client.attach_volume(\n",
    "    Device = '/dev/xvdb',\n",
    "    InstanceId = 'i-087d3aa9e3d7c4995',\n",
    "    VolumeId = 'vol-04cbb14d5f32469d2'\n",
    ")"
   ]
  },
  {
   "cell_type": "code",
   "execution_count": 3,
   "metadata": {},
   "outputs": [
    {
     "data": {
      "text/plain": [
       "{'AttachTime': datetime.datetime(2022, 8, 17, 8, 51, 57, tzinfo=tzutc()),\n",
       " 'Device': '/dev/xvdb',\n",
       " 'InstanceId': 'i-087d3aa9e3d7c4995',\n",
       " 'State': 'detaching',\n",
       " 'VolumeId': 'vol-04cbb14d5f32469d2',\n",
       " 'ResponseMetadata': {'RequestId': '00dc9ad8-ad41-4af9-b0e0-1e6a4b64f567',\n",
       "  'HTTPStatusCode': 200,\n",
       "  'HTTPHeaders': {'x-amzn-requestid': '00dc9ad8-ad41-4af9-b0e0-1e6a4b64f567',\n",
       "   'cache-control': 'no-cache, no-store',\n",
       "   'strict-transport-security': 'max-age=31536000; includeSubDomains',\n",
       "   'content-type': 'text/xml;charset=UTF-8',\n",
       "   'content-length': '411',\n",
       "   'date': 'Wed, 17 Aug 2022 08:59:12 GMT',\n",
       "   'server': 'AmazonEC2'},\n",
       "  'RetryAttempts': 0}}"
      ]
     },
     "execution_count": 3,
     "metadata": {},
     "output_type": "execute_result"
    }
   ],
   "source": [
    "ec2_client.detach_volume(\n",
    "    InstanceId = 'i-087d3aa9e3d7c4995',\n",
    "    VolumeId = 'vol-04cbb14d5f32469d2'\n",
    ")"
   ]
  }
 ],
 "metadata": {
  "kernelspec": {
   "display_name": "Python 3.10.6 64-bit",
   "language": "python",
   "name": "python3"
  },
  "language_info": {
   "codemirror_mode": {
    "name": "ipython",
    "version": 3
   },
   "file_extension": ".py",
   "mimetype": "text/x-python",
   "name": "python",
   "nbconvert_exporter": "python",
   "pygments_lexer": "ipython3",
   "version": "3.10.6"
  },
  "orig_nbformat": 4,
  "vscode": {
   "interpreter": {
    "hash": "aee8b7b246df8f9039afb4144a1f6fd8d2ca17a180786b69acc140d282b71a49"
   }
  }
 },
 "nbformat": 4,
 "nbformat_minor": 2
}
